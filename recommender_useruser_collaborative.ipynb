{
 "cells": [
  {
   "cell_type": "markdown",
   "metadata": {},
   "source": [
    "# Overall Project Description"
   ]
  },
  {
   "cell_type": "markdown",
   "metadata": {},
   "source": [
    "###### This project will generate 14er and 13er hike recommendations for a given user, first based simply on the checklist of other hikes that the user has done.  The calculation will proceed using the Pearson coefficient for calculating similarity between users; that is, the similarity between users 1 and 2 is given by  \n",
    "$s(u_1,u_2)=\\frac{\\sum_k (x_{1,k}-\\bar{x_1})(x_{2,k}-\\bar{x_2})}{\\sqrt{\\sum_k (x_{1,k}-\\bar{x})^2 \\sum_k (x_{2,k}-\\bar{x})^2}}$\n",
    "\n",
    "where $x_{n,k}$ is the rating that a user $n$ gives to a summit of peak $k$, and $\\bar{x}_n$ is the average rating over all peaks given by user $n$.  \n",
    "\n",
    "I am trying two different methods for representing the ratings $x_k$.  In the first, the $x_k$ are either -1 (user did not hike the peak) or 1 (user did hike the peak).  One issue here, particularly with the 14ers, is that there are a handful of front range peaks that are far more popular than all the others (Grays, Torreys, Quandary, and Bierdstat).  As a result, nearly all users share these peaks in common, and these peaks are generated as top recommendations for everyone regardless of other more unique hikes that the user has done.\n",
    "\n",
    "This issue could be handled by simply looking further down the recommendation list than the top front range peaks, but another approach would be to re-weight the ratings based on net peak popularity: the user's rating for peak $k$ is given as:\n",
    "\n",
    "$x_{n,k} = \\frac{N_{k,n}}{\\sum_{u_m} N_{k,m}}$, where $N_{k,n}$ is the total number of times that user $n$ logged a summit of peak $k$.\n",
    "\n",
    "The recommendation for peak \"k\" for a given user $n$ is then calculated from the user similarities according to the intuition that probable likelihood of hiking a given peak is added to the average likelihood of hiking a peak for user \"n\" ($\\bar{x}_k$) as a normalized, similarity-weighted sum over the mean-subtracted likelihood for all users \"m\":\n",
    "\n",
    "$\\hat{x}_{k,n} = \\bar{x}_k + \\frac{\\sum_{u_m}s(u_n, u_m)(x_{k,m} - \\bar{x}_m)}{\\left| \\sum_{u_m}{s(u_n,u_m)} \\right|}$\n",
    "\n",
    "\n",
    "\n",
    "\n",
    "###### Next,"
   ]
  },
  {
   "cell_type": "code",
   "execution_count": 1,
   "metadata": {},
   "outputs": [],
   "source": [
    "import pandas as pd\n",
    "import numpy as np\n",
    "import random\n",
    "import pickle\n",
    "import seaborn as sns\n",
    "import matplotlib.pyplot as plt\n",
    "from sklearn import preprocessing\n",
    "import sklearn\n",
    "#sns.reset_orig()\n",
    "sns.set_style('white')\n",
    "%matplotlib inline\n",
    "pd.set_option('mode.chained_assignment',None)"
   ]
  },
  {
   "cell_type": "markdown",
   "metadata": {},
   "source": [
    "## Import Checklist Data and Split into Train and Test"
   ]
  },
  {
   "cell_type": "markdown",
   "metadata": {},
   "source": [
    "#### Import checklist data.  Also import user data to map user ID to user Name"
   ]
  },
  {
   "cell_type": "code",
   "execution_count": 2,
   "metadata": {},
   "outputs": [
    {
     "data": {
      "text/html": [
       "<div>\n",
       "<style scoped>\n",
       "    .dataframe tbody tr th:only-of-type {\n",
       "        vertical-align: middle;\n",
       "    }\n",
       "\n",
       "    .dataframe tbody tr th {\n",
       "        vertical-align: top;\n",
       "    }\n",
       "\n",
       "    .dataframe thead th {\n",
       "        text-align: right;\n",
       "    }\n",
       "</style>\n",
       "<table border=\"1\" class=\"dataframe\">\n",
       "  <thead>\n",
       "    <tr style=\"text-align: right;\">\n",
       "      <th></th>\n",
       "      <th>UserId</th>\n",
       "      <th>PeakName</th>\n",
       "      <th>NumClimbs</th>\n",
       "    </tr>\n",
       "  </thead>\n",
       "  <tbody>\n",
       "    <tr>\n",
       "      <th>69651</th>\n",
       "      <td>7398</td>\n",
       "      <td>BlancaPeak</td>\n",
       "      <td>1</td>\n",
       "    </tr>\n",
       "    <tr>\n",
       "      <th>137885</th>\n",
       "      <td>20364</td>\n",
       "      <td>BlancaPeak</td>\n",
       "      <td>1</td>\n",
       "    </tr>\n",
       "    <tr>\n",
       "      <th>2285</th>\n",
       "      <td>179</td>\n",
       "      <td>BlancaPeak</td>\n",
       "      <td>1</td>\n",
       "    </tr>\n",
       "    <tr>\n",
       "      <th>56466</th>\n",
       "      <td>5784</td>\n",
       "      <td>BlancaPeak</td>\n",
       "      <td>1</td>\n",
       "    </tr>\n",
       "    <tr>\n",
       "      <th>207894</th>\n",
       "      <td>46480</td>\n",
       "      <td>BlancaPeak</td>\n",
       "      <td>1</td>\n",
       "    </tr>\n",
       "    <tr>\n",
       "      <th>24385</th>\n",
       "      <td>2079</td>\n",
       "      <td>BlancaPeak</td>\n",
       "      <td>1</td>\n",
       "    </tr>\n",
       "    <tr>\n",
       "      <th>14644</th>\n",
       "      <td>1236</td>\n",
       "      <td>BlancaPeak</td>\n",
       "      <td>1</td>\n",
       "    </tr>\n",
       "    <tr>\n",
       "      <th>85890</th>\n",
       "      <td>10118</td>\n",
       "      <td>BlancaPeak</td>\n",
       "      <td>1</td>\n",
       "    </tr>\n",
       "    <tr>\n",
       "      <th>177026</th>\n",
       "      <td>33105</td>\n",
       "      <td>BlancaPeak</td>\n",
       "      <td>1</td>\n",
       "    </tr>\n",
       "    <tr>\n",
       "      <th>56533</th>\n",
       "      <td>5789</td>\n",
       "      <td>BlancaPeak</td>\n",
       "      <td>1</td>\n",
       "    </tr>\n",
       "    <tr>\n",
       "      <th>113911</th>\n",
       "      <td>15091</td>\n",
       "      <td>BlancaPeak</td>\n",
       "      <td>1</td>\n",
       "    </tr>\n",
       "    <tr>\n",
       "      <th>177066</th>\n",
       "      <td>33126</td>\n",
       "      <td>BlancaPeak</td>\n",
       "      <td>1</td>\n",
       "    </tr>\n",
       "    <tr>\n",
       "      <th>85790</th>\n",
       "      <td>10100</td>\n",
       "      <td>BlancaPeak</td>\n",
       "      <td>1</td>\n",
       "    </tr>\n",
       "    <tr>\n",
       "      <th>207744</th>\n",
       "      <td>46369</td>\n",
       "      <td>BlancaPeak</td>\n",
       "      <td>1</td>\n",
       "    </tr>\n",
       "    <tr>\n",
       "      <th>56629</th>\n",
       "      <td>5793</td>\n",
       "      <td>BlancaPeak</td>\n",
       "      <td>1</td>\n",
       "    </tr>\n",
       "    <tr>\n",
       "      <th>177139</th>\n",
       "      <td>33146</td>\n",
       "      <td>BlancaPeak</td>\n",
       "      <td>1</td>\n",
       "    </tr>\n",
       "    <tr>\n",
       "      <th>265019</th>\n",
       "      <td>80244</td>\n",
       "      <td>BlancaPeak</td>\n",
       "      <td>1</td>\n",
       "    </tr>\n",
       "    <tr>\n",
       "      <th>207711</th>\n",
       "      <td>46359</td>\n",
       "      <td>BlancaPeak</td>\n",
       "      <td>1</td>\n",
       "    </tr>\n",
       "    <tr>\n",
       "      <th>24319</th>\n",
       "      <td>2072</td>\n",
       "      <td>BlancaPeak</td>\n",
       "      <td>1</td>\n",
       "    </tr>\n",
       "    <tr>\n",
       "      <th>241743</th>\n",
       "      <td>66515</td>\n",
       "      <td>BlancaPeak</td>\n",
       "      <td>1</td>\n",
       "    </tr>\n",
       "    <tr>\n",
       "      <th>177159</th>\n",
       "      <td>33152</td>\n",
       "      <td>BlancaPeak</td>\n",
       "      <td>1</td>\n",
       "    </tr>\n",
       "    <tr>\n",
       "      <th>122892</th>\n",
       "      <td>17139</td>\n",
       "      <td>BlancaPeak</td>\n",
       "      <td>1</td>\n",
       "    </tr>\n",
       "    <tr>\n",
       "      <th>56683</th>\n",
       "      <td>5801</td>\n",
       "      <td>BlancaPeak</td>\n",
       "      <td>1</td>\n",
       "    </tr>\n",
       "    <tr>\n",
       "      <th>56408</th>\n",
       "      <td>5780</td>\n",
       "      <td>BlancaPeak</td>\n",
       "      <td>1</td>\n",
       "    </tr>\n",
       "    <tr>\n",
       "      <th>241631</th>\n",
       "      <td>66485</td>\n",
       "      <td>BlancaPeak</td>\n",
       "      <td>1</td>\n",
       "    </tr>\n",
       "  </tbody>\n",
       "</table>\n",
       "</div>"
      ],
      "text/plain": [
       "       UserId    PeakName  NumClimbs\n",
       "69651    7398  BlancaPeak          1\n",
       "137885  20364  BlancaPeak          1\n",
       "2285      179  BlancaPeak          1\n",
       "56466    5784  BlancaPeak          1\n",
       "207894  46480  BlancaPeak          1\n",
       "24385    2079  BlancaPeak          1\n",
       "14644    1236  BlancaPeak          1\n",
       "85890   10118  BlancaPeak          1\n",
       "177026  33105  BlancaPeak          1\n",
       "56533    5789  BlancaPeak          1\n",
       "113911  15091  BlancaPeak          1\n",
       "177066  33126  BlancaPeak          1\n",
       "85790   10100  BlancaPeak          1\n",
       "207744  46369  BlancaPeak          1\n",
       "56629    5793  BlancaPeak          1\n",
       "177139  33146  BlancaPeak          1\n",
       "265019  80244  BlancaPeak          1\n",
       "207711  46359  BlancaPeak          1\n",
       "24319    2072  BlancaPeak          1\n",
       "241743  66515  BlancaPeak          1\n",
       "177159  33152  BlancaPeak          1\n",
       "122892  17139  BlancaPeak          1\n",
       "56683    5801  BlancaPeak          1\n",
       "56408    5780  BlancaPeak          1\n",
       "241631  66485  BlancaPeak          1"
      ]
     },
     "execution_count": 2,
     "metadata": {},
     "output_type": "execute_result"
    }
   ],
   "source": [
    "fname_14erList = r'14erChecklistByUser_df'\n",
    "fname_13erList = r'13erChecklistByUser_df'\n",
    "\n",
    "df_13ers = pickle.load(open(fname_13erList,\"rb\"))\n",
    "df_13ers = df_13ers[df_13ers['PeakName']!=\"\"]\n",
    "df_14ers = pickle.load(open(fname_14erList,\"rb\"))\n",
    "df_14ers = df_14ers[df_14ers['PeakName']!=\"\"]\n",
    "df_14ers = df_14ers.sort_values('PeakName')\n",
    "df_14ers['NumClimbs'] = df_14ers['NumClimbs'].apply(lambda x: -1 if x==0 else 1)\n",
    "df_14ers.head(25)\n",
    "#names = pd.Series(np.arange(len(names)), names)\n",
    "\n",
    "fname_user = r'user_profile_data_FULL'\n",
    "user_df = pickle.load(open(fname_user,\"rb\"))\n",
    "user_df.head()\n"
   ]
  },
  {
   "cell_type": "code",
   "execution_count": 4,
   "metadata": {},
   "outputs": [
    {
     "name": "stdout",
     "output_type": "stream",
     "text": [
      "                  UserId  NumClimbs\n",
      "PeakName                           \n",
      "EastLaPlata          245        245\n",
      "NorthwestLindsey     335        335\n",
      "MassiveGreen         434        434\n",
      "SouthElbert          499        499\n",
      "SouthMassive         532        532\n",
      "NorthMassive         562        562\n",
      "WestEvans            792        792\n",
      "SouthBross          1133       1133\n",
      "NorthEolus          1373       1373\n",
      "ElDientePeak        1429       1429\n",
      "MtWilson            1499       1499\n",
      "CulebraPeak         1540       1540\n",
      "NorthMaroonPeak     1593       1593\n",
      "LittleBearPeak      1604       1604\n",
      "WilsonPeak          1725       1725\n",
      "CapitolPeak         1781       1781\n",
      "MtEolus             1795       1795\n",
      "MaroonPeak          1800       1800\n",
      "SnowmassMountain    1829       1829\n",
      "PyramidPeak         1886       1886\n",
      "SunlightPeak        1996       1996\n",
      "WindomPeak          2046       2046\n",
      "EllingwoodPoint     2204       2204\n",
      "CrestonePeak        2264       2264\n",
      "ConundrumPeak       2267       2267\n",
      "CrestoneNeedle      2462       2462\n",
      "KitCarsonPeak       2503       2503\n",
      "ChallengerPoint     2699       2699\n",
      "MtLindsey           2710       2710\n",
      "BlancaPeak          2712       2712\n",
      "...                  ...        ...\n",
      "UncompahgrePeak     3626       3626\n",
      "MtColumbia          3651       3651\n",
      "HumboldtPeak        3710       3710\n",
      "RedcloudPeak        3841       3841\n",
      "HandiesPeak         3984       3984\n",
      "MtAntero            3984       3984\n",
      "TabeguachePeak      4310       4310\n",
      "MtHarvard           4427       4427\n",
      "MissouriMountain    4444       4444\n",
      "MtoftheHolyCross    4489       4489\n",
      "MtOxford            4991       4991\n",
      "MtPrinceton         5276       5276\n",
      "LaPlataPeak         5477       5477\n",
      "MtShavano           5530       5530\n",
      "MtYale              5565       5565\n",
      "MtMassive           5809       5809\n",
      "HuronPeak           5837       5837\n",
      "MtBelford           5861       5861\n",
      "LongsPeak           6109       6109\n",
      "PikesPeak           6244       6244\n",
      "MtSherman           7181       7181\n",
      "MtEvans             7717       7717\n",
      "MtCameron           8076       8076\n",
      "MtBross             8388       8388\n",
      "MtElbert            8713       8713\n",
      "MtDemocrat          8820       8820\n",
      "TorreysPeak         9942       9942\n",
      "QuandaryPeak        9952       9952\n",
      "MtBierstadt        10316      10316\n",
      "GraysPeak          10718      10718\n",
      "\n",
      "[65 rows x 2 columns]\n",
      "[]\n"
     ]
    }
   ],
   "source": [
    "climb_counts = df_14ers.groupby('PeakName').agg('count').sort_values('NumClimbs')\n",
    "print(climb_counts)\n",
    "dropnames = climb_counts[climb_counts['NumClimbs']<200].index.tolist()\n",
    "print(dropnames)\n",
    "df_14ers = df_14ers[df_14ers['PeakName'].apply(lambda x: x not in dropnames)]\n",
    "#df_14ers[df_14ers['NewUserId']==4].head(40)"
   ]
  },
  {
   "cell_type": "code",
   "execution_count": 5,
   "metadata": {},
   "outputs": [
    {
     "name": "stdout",
     "output_type": "stream",
     "text": [
      "15207\n",
      "65\n"
     ]
    },
    {
     "data": {
      "text/html": [
       "<div>\n",
       "<style scoped>\n",
       "    .dataframe tbody tr th:only-of-type {\n",
       "        vertical-align: middle;\n",
       "    }\n",
       "\n",
       "    .dataframe tbody tr th {\n",
       "        vertical-align: top;\n",
       "    }\n",
       "\n",
       "    .dataframe thead th {\n",
       "        text-align: right;\n",
       "    }\n",
       "</style>\n",
       "<table border=\"1\" class=\"dataframe\">\n",
       "  <thead>\n",
       "    <tr style=\"text-align: right;\">\n",
       "      <th></th>\n",
       "      <th>PeakId</th>\n",
       "      <th>PeakName</th>\n",
       "    </tr>\n",
       "  </thead>\n",
       "  <tbody>\n",
       "    <tr>\n",
       "      <th>0</th>\n",
       "      <td>0</td>\n",
       "      <td>BlancaPeak</td>\n",
       "    </tr>\n",
       "    <tr>\n",
       "      <th>1</th>\n",
       "      <td>1</td>\n",
       "      <td>CapitolPeak</td>\n",
       "    </tr>\n",
       "    <tr>\n",
       "      <th>2</th>\n",
       "      <td>2</td>\n",
       "      <td>CastlePeak</td>\n",
       "    </tr>\n",
       "    <tr>\n",
       "      <th>3</th>\n",
       "      <td>3</td>\n",
       "      <td>ChallengerPoint</td>\n",
       "    </tr>\n",
       "    <tr>\n",
       "      <th>4</th>\n",
       "      <td>4</td>\n",
       "      <td>ConundrumPeak</td>\n",
       "    </tr>\n",
       "    <tr>\n",
       "      <th>5</th>\n",
       "      <td>5</td>\n",
       "      <td>CrestoneNeedle</td>\n",
       "    </tr>\n",
       "    <tr>\n",
       "      <th>6</th>\n",
       "      <td>6</td>\n",
       "      <td>CrestonePeak</td>\n",
       "    </tr>\n",
       "    <tr>\n",
       "      <th>7</th>\n",
       "      <td>7</td>\n",
       "      <td>CulebraPeak</td>\n",
       "    </tr>\n",
       "    <tr>\n",
       "      <th>8</th>\n",
       "      <td>8</td>\n",
       "      <td>EastLaPlata</td>\n",
       "    </tr>\n",
       "    <tr>\n",
       "      <th>9</th>\n",
       "      <td>9</td>\n",
       "      <td>ElDientePeak</td>\n",
       "    </tr>\n",
       "    <tr>\n",
       "      <th>10</th>\n",
       "      <td>10</td>\n",
       "      <td>EllingwoodPoint</td>\n",
       "    </tr>\n",
       "    <tr>\n",
       "      <th>11</th>\n",
       "      <td>11</td>\n",
       "      <td>GraysPeak</td>\n",
       "    </tr>\n",
       "  </tbody>\n",
       "</table>\n",
       "</div>"
      ],
      "text/plain": [
       "    PeakId         PeakName\n",
       "0        0       BlancaPeak\n",
       "1        1      CapitolPeak\n",
       "2        2       CastlePeak\n",
       "3        3  ChallengerPoint\n",
       "4        4    ConundrumPeak\n",
       "5        5   CrestoneNeedle\n",
       "6        6     CrestonePeak\n",
       "7        7      CulebraPeak\n",
       "8        8      EastLaPlata\n",
       "9        9     ElDientePeak\n",
       "10      10  EllingwoodPoint\n",
       "11      11        GraysPeak"
      ]
     },
     "execution_count": 5,
     "metadata": {},
     "output_type": "execute_result"
    }
   ],
   "source": [
    "n_14er_users = df_14ers.UserId.nunique()\n",
    "n_14ers = df_14ers.PeakName.nunique()\n",
    "print(n_14er_users)\n",
    "print(n_14ers)\n",
    "index_ind=pd.DataFrame(data={'PeakId':np.arange(len(df_14ers.PeakName.unique())),'PeakName':df_14ers.PeakName.unique()})\n",
    "index_ind.head(12)"
   ]
  },
  {
   "cell_type": "code",
   "execution_count": 6,
   "metadata": {},
   "outputs": [
    {
     "data": {
      "text/html": [
       "<div>\n",
       "<style scoped>\n",
       "    .dataframe tbody tr th:only-of-type {\n",
       "        vertical-align: middle;\n",
       "    }\n",
       "\n",
       "    .dataframe tbody tr th {\n",
       "        vertical-align: top;\n",
       "    }\n",
       "\n",
       "    .dataframe thead th {\n",
       "        text-align: right;\n",
       "    }\n",
       "</style>\n",
       "<table border=\"1\" class=\"dataframe\">\n",
       "  <thead>\n",
       "    <tr style=\"text-align: right;\">\n",
       "      <th></th>\n",
       "      <th>UserId</th>\n",
       "      <th>PeakName</th>\n",
       "      <th>NumClimbs</th>\n",
       "      <th>PeakId</th>\n",
       "    </tr>\n",
       "  </thead>\n",
       "  <tbody>\n",
       "    <tr>\n",
       "      <th>0</th>\n",
       "      <td>7398</td>\n",
       "      <td>BlancaPeak</td>\n",
       "      <td>1</td>\n",
       "      <td>0</td>\n",
       "    </tr>\n",
       "    <tr>\n",
       "      <th>1</th>\n",
       "      <td>20364</td>\n",
       "      <td>BlancaPeak</td>\n",
       "      <td>1</td>\n",
       "      <td>0</td>\n",
       "    </tr>\n",
       "    <tr>\n",
       "      <th>2</th>\n",
       "      <td>179</td>\n",
       "      <td>BlancaPeak</td>\n",
       "      <td>1</td>\n",
       "      <td>0</td>\n",
       "    </tr>\n",
       "    <tr>\n",
       "      <th>3</th>\n",
       "      <td>5784</td>\n",
       "      <td>BlancaPeak</td>\n",
       "      <td>1</td>\n",
       "      <td>0</td>\n",
       "    </tr>\n",
       "    <tr>\n",
       "      <th>4</th>\n",
       "      <td>46480</td>\n",
       "      <td>BlancaPeak</td>\n",
       "      <td>1</td>\n",
       "      <td>0</td>\n",
       "    </tr>\n",
       "  </tbody>\n",
       "</table>\n",
       "</div>"
      ],
      "text/plain": [
       "  UserId    PeakName  NumClimbs  PeakId\n",
       "0   7398  BlancaPeak          1       0\n",
       "1  20364  BlancaPeak          1       0\n",
       "2    179  BlancaPeak          1       0\n",
       "3   5784  BlancaPeak          1       0\n",
       "4  46480  BlancaPeak          1       0"
      ]
     },
     "execution_count": 6,
     "metadata": {},
     "output_type": "execute_result"
    }
   ],
   "source": [
    "df_14ers = df_14ers.merge(index_ind)\n",
    "df_14ers.head()"
   ]
  },
  {
   "cell_type": "code",
   "execution_count": 7,
   "metadata": {},
   "outputs": [
    {
     "data": {
      "text/html": [
       "<div>\n",
       "<style scoped>\n",
       "    .dataframe tbody tr th:only-of-type {\n",
       "        vertical-align: middle;\n",
       "    }\n",
       "\n",
       "    .dataframe tbody tr th {\n",
       "        vertical-align: top;\n",
       "    }\n",
       "\n",
       "    .dataframe thead th {\n",
       "        text-align: right;\n",
       "    }\n",
       "</style>\n",
       "<table border=\"1\" class=\"dataframe\">\n",
       "  <thead>\n",
       "    <tr style=\"text-align: right;\">\n",
       "      <th></th>\n",
       "      <th>UserId</th>\n",
       "      <th>PeakName</th>\n",
       "      <th>NumClimbs</th>\n",
       "      <th>PeakId</th>\n",
       "      <th>NewUserId</th>\n",
       "    </tr>\n",
       "  </thead>\n",
       "  <tbody>\n",
       "    <tr>\n",
       "      <th>0</th>\n",
       "      <td>7398</td>\n",
       "      <td>BlancaPeak</td>\n",
       "      <td>1</td>\n",
       "      <td>0</td>\n",
       "      <td>0</td>\n",
       "    </tr>\n",
       "    <tr>\n",
       "      <th>1</th>\n",
       "      <td>7398</td>\n",
       "      <td>CapitolPeak</td>\n",
       "      <td>1</td>\n",
       "      <td>1</td>\n",
       "      <td>0</td>\n",
       "    </tr>\n",
       "    <tr>\n",
       "      <th>2</th>\n",
       "      <td>7398</td>\n",
       "      <td>CastlePeak</td>\n",
       "      <td>1</td>\n",
       "      <td>2</td>\n",
       "      <td>0</td>\n",
       "    </tr>\n",
       "    <tr>\n",
       "      <th>3</th>\n",
       "      <td>7398</td>\n",
       "      <td>ChallengerPoint</td>\n",
       "      <td>1</td>\n",
       "      <td>3</td>\n",
       "      <td>0</td>\n",
       "    </tr>\n",
       "    <tr>\n",
       "      <th>4</th>\n",
       "      <td>7398</td>\n",
       "      <td>ConundrumPeak</td>\n",
       "      <td>1</td>\n",
       "      <td>4</td>\n",
       "      <td>0</td>\n",
       "    </tr>\n",
       "  </tbody>\n",
       "</table>\n",
       "</div>"
      ],
      "text/plain": [
       "  UserId         PeakName  NumClimbs  PeakId  NewUserId\n",
       "0   7398       BlancaPeak          1       0          0\n",
       "1   7398      CapitolPeak          1       1          0\n",
       "2   7398       CastlePeak          1       2          0\n",
       "3   7398  ChallengerPoint          1       3          0\n",
       "4   7398    ConundrumPeak          1       4          0"
      ]
     },
     "execution_count": 7,
     "metadata": {},
     "output_type": "execute_result"
    }
   ],
   "source": [
    "## We should also redo the user ids since they span the length of the full dataframe, and we\n",
    "## have only taken the subset of the users that have logged a 14er hike\n",
    "index_id=pd.DataFrame(data={'NewUserId':np.arange(len(df_14ers.UserId.unique())),'UserId':df_14ers.UserId.unique()})\n",
    "index_id.head()\n",
    "df_14ers = df_14ers.merge(index_id)\n",
    "df_14ers.head()"
   ]
  },
  {
   "cell_type": "code",
   "execution_count": 8,
   "metadata": {},
   "outputs": [],
   "source": [
    "from sklearn.model_selection import train_test_split\n",
    "random.seed(1000)\n",
    "train_data14ers, test_data14ers = train_test_split(df_14ers, test_size=0.25)"
   ]
  },
  {
   "cell_type": "code",
   "execution_count": null,
   "metadata": {},
   "outputs": [],
   "source": []
  },
  {
   "cell_type": "markdown",
   "metadata": {},
   "source": [
    "## Build the similarity rating between users based only on their common ratings, and then create a peak prediction for each user "
   ]
  },
  {
   "cell_type": "code",
   "execution_count": 9,
   "metadata": {},
   "outputs": [],
   "source": [
    "#Create two user-item matrices, one for training and another for testing\n",
    "train_data_matrix = -1*np.ones((n_14er_users, n_14ers))\n",
    "for line in train_data14ers.itertuples():\n",
    "    #print([line[1],line[2],line[3]])\n",
    "    train_data_matrix[line[5], line[4]] = line[3]  \n",
    "for n in range(n_14er_users):\n",
    "    if all(train_data_matrix[n,:]==-1):\n",
    "        train_data_matrix[n,:]=0\n",
    "test_data_matrix = -1*np.ones((n_14er_users, n_14ers))\n",
    "for line in test_data14ers.itertuples():\n",
    "    test_data_matrix[line[5], line[4]] = line[3]"
   ]
  },
  {
   "cell_type": "code",
   "execution_count": 26,
   "metadata": {},
   "outputs": [
    {
     "name": "stdout",
     "output_type": "stream",
     "text": [
      "(15207, 65)\n",
      "65\n"
     ]
    },
    {
     "data": {
      "text/plain": [
       "0.08976129414085618"
      ]
     },
     "execution_count": 26,
     "metadata": {},
     "output_type": "execute_result"
    }
   ],
   "source": [
    "print(np.shape(train_data_matrix))\n",
    "means = np.mean(train_data_matrix,axis=0)\n",
    "print(len(means))\n",
    "np.max(means)\n",
    "#np.min(means)"
   ]
  },
  {
   "cell_type": "markdown",
   "metadata": {},
   "source": [
    "##### Pearson Metric \n",
    "\n",
    "$s(u_i,u_j)=\\frac{\\sum_k (x_{i,k}-\\bar{x_i})(x_{j,k}-\\bar{x_j})}{\\sqrt{\\sum_k (x_{i,k}-\\bar{x_i})^2 \\sum_k (x_{j,k}-\\bar{x_j})^2}}$\n",
    "\n",
    "The (i,j) are user indices and \"k\" is a peak index"
   ]
  },
  {
   "cell_type": "code",
   "execution_count": 27,
   "metadata": {},
   "outputs": [],
   "source": [
    "def pearson_correlation(train_data_matrix):\n",
    "    epsilon = 1e-5\n",
    "    #train_data_matrix has dimensions of (nusers,n14ers)\n",
    "    nusers = np.shape(train_data_matrix)[0]\n",
    "    pcorr_matrix = np.zeros((nusers,nusers))\n",
    "    user_means = np.mean(train_data_matrix,axis=1)*1/.75 ##rescale because only 75% of the matrix is populated with training data\n",
    "    #print(user_means)\n",
    "    #print(train_data_matrix)\n",
    "    user_means = np.reshape(user_means,(nusers,1))\n",
    "    mean_subtract = train_data_matrix - user_means\n",
    "    denom_sum_sq = (np.sum((mean_subtract)**2,axis=1))**0.5\n",
    "    denom_sum_sq = [elem if elem!=0 else epsilon for elem in denom_sum_sq]\n",
    "    #print(mean_subtract)\n",
    "    for i in range(nusers):\n",
    "        for j in range(nusers):\n",
    "            pcorr_matrix[i,j] = np.dot(mean_subtract[i,:],mean_subtract[j,:])/(denom_sum_sq[i]*denom_sum_sq[j])\n",
    "    return pcorr_matrix"
   ]
  },
  {
   "cell_type": "code",
   "execution_count": 62,
   "metadata": {},
   "outputs": [],
   "source": [
    "def cosine_correlation(train_data_matrix):\n",
    "    epsilon = 1e-5\n",
    "    #train_data_matrix has dimensions of (nusers,n14ers)\n",
    "    nusers = np.shape(train_data_matrix)[0]\n",
    "    pcorr_matrix = np.zeros((nusers,nusers))\n",
    "    user_means = np.mean(train_data_matrix,axis=1)*1/.75 ##rescale because only 75% of the matrix is populated with training data\n",
    "    #print(user_means)\n",
    "    #print(train_data_matrix)\n",
    "   # user_means = np.reshape(user_means,(nusers,1))\n",
    "    mean_subtract = train_data_matrix #- user_means\n",
    "    denom_sum_sq = (np.sum((mean_subtract)**2,axis=1))**0.5\n",
    "    denom_sum_sq = [elem if elem!=0 else epsilon for elem in denom_sum_sq]\n",
    "    #print(mean_subtract)\n",
    "    for i in range(nusers):\n",
    "        for j in range(nusers):\n",
    "            pcorr_matrix[i,j] = np.dot(mean_subtract[i,:],mean_subtract[j,:])/(denom_sum_sq[i]*denom_sum_sq[j])\n",
    "    return pcorr_matrix"
   ]
  },
  {
   "cell_type": "code",
   "execution_count": 69,
   "metadata": {},
   "outputs": [],
   "source": [
    "#from sklearn.metrics.pairwise import pairwise_distances\n",
    "#### Run if needed otherwise load below\n",
    "user_similarity = pearson_correlation(train_data_matrix)\n",
    "pickle.dump(user_similarity,open(r'user_similarities_14er_pearson',\"wb\"))"
   ]
  },
  {
   "cell_type": "code",
   "execution_count": 10,
   "metadata": {},
   "outputs": [],
   "source": [
    "user_similarity=pickle.load(open(r'user_similarities_14er_pearson',\"rb\"))"
   ]
  },
  {
   "cell_type": "code",
   "execution_count": 68,
   "metadata": {},
   "outputs": [],
   "source": [
    "user_similarity_cos = user_similarity#cosine_correlation(train_data_matrix)"
   ]
  },
  {
   "cell_type": "code",
   "execution_count": 11,
   "metadata": {},
   "outputs": [
    {
     "name": "stdout",
     "output_type": "stream",
     "text": [
      "[ 0.25762622  0.22289028  0.05453595  0.31557175  0.17308552  0.02683448\n",
      "  0.15684004  0.22437477  0.19358468  0.25762622  0.17308552  0.15684004\n",
      "  0.17308552  0.02298496  0.31557175  0.10903558  0.2868456   0.47300505\n",
      "  0.18758039  0.14261112  0.14647674  0.12951055  0.00515491  0.36797046\n",
      "  0.31557175  0.32436385  0.19358468  0.38131288  0.02298496  0.34394594\n",
      "  0.12951055  0.08216028  0.02298496  0.          0.25914893  0.10905521\n",
      "  0.0778101   0.19358468  0.15033707 -0.06728665  0.14647674  0.0778101\n",
      "  0.15684004  0.0719158   0.08216028  0.14647674  0.18758039  0.04152521\n",
      "  0.08216028  0.32436385  0.0719158   0.12951055  0.38131288  0.15684004\n",
      "  0.08216028  0.2868456   0.26456356  0.31557175  0.25762622  0.22437477\n",
      "  0.12906937  0.17308552  0.12951055  0.17308552  0.10480361  0.10905521\n",
      "  0.02683448  0.26456356  0.17308552  0.10905521  0.10480361  0.00515491\n",
      " -0.13039953  0.19358468  0.10903558  0.00515491  0.00536095  0.00536095\n",
      "  0.36797046  0.08216028  0.2868456   0.12906937  0.22289028  0.15907823\n",
      "  0.12951055  0.0778101   0.18758039  0.02298496  0.38131288  0.10905521\n",
      "  0.18758039  0.2868456   0.38131288  0.2868456   0.0719158   0.05079693\n",
      "  0.15684004  0.26456356  0.26456356  0.15684004]\n"
     ]
    }
   ],
   "source": [
    "print(user_similarity[5000,-4000:-3900])"
   ]
  },
  {
   "cell_type": "markdown",
   "metadata": {},
   "source": [
    "Spot checks to make sure that the 14er lists of user pairs rated most similar are actually close"
   ]
  },
  {
   "cell_type": "code",
   "execution_count": 13,
   "metadata": {},
   "outputs": [
    {
     "name": "stdout",
     "output_type": "stream",
     "text": [
      "0.4717069078533\n",
      "[-0.02298496 -0.00643337 -0.11664799 ...  0.31557175  0.31557175\n",
      "  0.26456356]\n",
      "Check User 10000\n",
      "       UserId     PeakName  NumClimbs  PeakId  NewUserId\n",
      "193151  12890    GraysPeak          1      11       7521\n",
      "193152  12890  MtBierstadt          1      24       7521\n",
      "193153  12890     MtElbert          1      29       7521\n",
      "\n",
      "\n",
      "       UserId          PeakName  NumClimbs  PeakId  NewUserId\n",
      "220227  74031         GraysPeak          1      11      10000\n",
      "220228  74031  MissouriMountain          1      21      10000\n",
      "220229  74031       MtBierstadt          1      24      10000\n",
      "220230  74031          MtElbert          1      29      10000\n",
      "220231  74031       MtPrinceton          1      36      10000\n",
      "220232  74031       TorreysPeak          1      59      10000\n",
      "\n",
      "\n",
      "\n",
      "Check User 5600\n",
      "       UserId      PeakName  NumClimbs  PeakId  NewUserId\n",
      "177446  52612     GraysPeak          1      11       6035\n",
      "177447  52612     HuronPeak          1      14       6035\n",
      "177448  52612   LaPlataPeak          1      16       6035\n",
      "177449  52612     MtBelford          1      23       6035\n",
      "177450  52612   MtBierstadt          1      24       6035\n",
      "177451  52612       MtBross          1      25       6035\n",
      "177452  52612     MtCameron          1      26       6035\n",
      "177453  52612    MtDemocrat          1      28       6035\n",
      "177454  52612      MtElbert          1      29       6035\n",
      "177455  52612       MtEvans          1      31       6035\n",
      "177456  52612     MtMassive          1      34       6035\n",
      "177457  52612     MtSherman          1      38       6035\n",
      "177458  52612  QuandaryPeak          1      49       6035\n",
      "177459  52612   TorreysPeak          1      59       6035\n",
      "\n",
      "\n",
      "       UserId          PeakName  NumClimbs  PeakId  NewUserId\n",
      "171943  11597      ElDientePeak          1       9       5600\n",
      "171944  11597         GraysPeak          1      11       5600\n",
      "171945  11597       LaPlataPeak          1      16       5600\n",
      "171946  11597         LongsPeak          1      18       5600\n",
      "171947  11597          MtAntero          1      22       5600\n",
      "171948  11597         MtBelford          1      23       5600\n",
      "171949  11597       MtBierstadt          1      24       5600\n",
      "171950  11597           MtBross          1      25       5600\n",
      "171951  11597         MtCameron          1      26       5600\n",
      "171952  11597        MtDemocrat          1      28       5600\n",
      "171953  11597          MtElbert          1      29       5600\n",
      "171954  11597           MtEvans          1      31       5600\n",
      "171955  11597         MtMassive          1      34       5600\n",
      "171956  11597          MtOxford          1      35       5600\n",
      "171957  11597         MtSherman          1      38       5600\n",
      "171958  11597          MtWilson          1      40       5600\n",
      "171959  11597  MtoftheHolyCross          1      42       5600\n",
      "171960  11597      QuandaryPeak          1      49       5600\n",
      "171961  11597      RedcloudPeak          1      50       5600\n",
      "171962  11597       TorreysPeak          1      59       5600\n",
      "171963  11597    WetterhornPeak          1      62       5600\n"
     ]
    }
   ],
   "source": [
    "sim_to_10000=user_similarity[10000,:].argsort() \n",
    "sim_to_5600=user_similarity[5600,:].argsort()\n",
    "print(user_similarity[10000,sim_to_5600[-2]])\n",
    "print(user_similarity[5000,sim_to_10000])\n",
    "print('Check User 10000')\n",
    "print(df_14ers[df_14ers['NewUserId']==sim_to_10000[-2]])\n",
    "print('\\n')\n",
    "print(df_14ers[df_14ers['NewUserId']==10000])\n",
    "print('\\n\\n')\n",
    "print('Check User 5600')\n",
    "print(df_14ers[df_14ers['NewUserId']==sim_to_5600[-2]])\n",
    "print('\\n')\n",
    "print(df_14ers[df_14ers['NewUserId']==5600])"
   ]
  },
  {
   "cell_type": "code",
   "execution_count": 14,
   "metadata": {},
   "outputs": [],
   "source": [
    "def predict(ratings, similarity):\n",
    "    mean_user_rating = ratings.mean(axis=1)\n",
    "    ratings_diff = (ratings - mean_user_rating[:, np.newaxis]) \n",
    "#    print(ratings_diff)\n",
    "    pred = mean_user_rating[:, np.newaxis] + similarity.dot(ratings_diff) / np.array([np.abs(similarity).sum(axis=1)]).T\n",
    "    return pred"
   ]
  },
  {
   "cell_type": "code",
   "execution_count": 16,
   "metadata": {},
   "outputs": [
    {
     "name": "stdout",
     "output_type": "stream",
     "text": [
      "[[ 0.64615385  0.64615385  0.64615385 ...  0.64615385  0.64615385\n",
      "   0.64615385]\n",
      " [-0.95384615 -0.95384615 -0.95384615 ... -0.95384615 -0.95384615\n",
      "  -0.95384615]\n",
      " [-1.29230769  0.70769231  0.70769231 ...  0.70769231  0.70769231\n",
      "  -1.29230769]\n",
      " ...\n",
      " [-0.03076923 -0.03076923 -0.03076923 ... -0.03076923 -0.03076923\n",
      "   1.96923077]\n",
      " [-0.03076923 -0.03076923 -0.03076923 ... -0.03076923 -0.03076923\n",
      "   1.96923077]\n",
      " [-0.03076923 -0.03076923 -0.03076923 ... -0.03076923 -0.03076923\n",
      "   1.96923077]]\n"
     ]
    }
   ],
   "source": [
    "user_prediction = predict(train_data_matrix, 1-user_similarity)"
   ]
  },
  {
   "cell_type": "code",
   "execution_count": 35,
   "metadata": {},
   "outputs": [
    {
     "name": "stdout",
     "output_type": "stream",
     "text": [
      "User 5000 Hiked:\n",
      "['ChallengerPoint', 'CrestoneNeedle', 'HuronPeak', 'KitCarsonPeak', 'LaPlataPeak', 'MtBierstadt', 'MtHarvard', 'MtLindsey', 'MtMassive']\n",
      "\n",
      "\n",
      "\n",
      "\n",
      "\n",
      "\n",
      "Recommendation for User 5000:\n",
      "['LongsPeak', 'MtBelford', 'MtYale', 'MtShavano', 'MtPrinceton', 'MtOxford', 'MtoftheHolyCross', 'MissouriMountain', 'TabeguachePeak', 'HandiesPeak']\n",
      "\n",
      "\n",
      "\n",
      "User 5600 Hiked:\n",
      "['ElDientePeak', 'GraysPeak', 'LaPlataPeak', 'LongsPeak', 'MtAntero', 'MtBelford', 'MtBierstadt', 'MtBross', 'MtCameron', 'MtDemocrat', 'MtElbert', 'MtEvans', 'MtMassive', 'MtOxford', 'MtSherman', 'MtWilson', 'MtoftheHolyCross', 'QuandaryPeak', 'RedcloudPeak', 'TorreysPeak', 'WetterhornPeak']\n",
      "\n",
      "\n",
      "\n",
      "Recommendation for User 5600:\n",
      "['HuronPeak', 'MtYale', 'MtShavano', 'MtPrinceton', 'MtHarvard', 'MissouriMountain', 'TabeguachePeak', 'HandiesPeak', 'HumboldtPeak', 'MtColumbia']\n"
     ]
    }
   ],
   "source": [
    "#print(user_prediction)\n",
    "np.shape(user_prediction)\n",
    "common_peaks = ['GraysPeak', 'MtBierstadt', 'QuandaryPeak', 'TorreysPeak', 'MtDemocrat', 'MtElbert', 'MtBross', 'MtCameron', 'MtEvans', 'MtSherman', 'PikesPeak']\n",
    "n=10\n",
    "user_prediction=user_prediction.astype('float')\n",
    "\n",
    "args=((-user_prediction[5000,:]).argsort())\n",
    "hiked_list_5000 = (df_14ers[df_14ers['NewUserId']==5000])['PeakName'].tolist()\n",
    "print('User 5000 Hiked:')\n",
    "print(hiked_list_5000)\n",
    "print('\\n\\n')\n",
    "rec_list_5000 = index_ind['PeakName'][args].tolist()\n",
    "new_rec_list_5000 = [elem for elem in rec_list_5000 if elem not in hiked_list_5000 and elem not in common_peaks]\n",
    "print('\\n\\n')\n",
    "print('Recommendation for User 5000:')\n",
    "print(new_rec_list_5000[0:n])\n",
    "args=((-user_prediction[5600,:]).argsort())\n",
    "hiked_list_5600 = (df_14ers[df_14ers['NewUserId']==5600])['PeakName'].tolist()\n",
    "print('\\n\\n')\n",
    "\n",
    "print('User 5600 Hiked:')\n",
    "print(hiked_list_5600)\n",
    "rec_list_5600 = index_ind['PeakName'][args].tolist()\n",
    "new_rec_list_5600 = [elem for elem in rec_list_5600 if elem not in hiked_list_5600 and elem not in common_peaks]\n",
    "print('\\n\\n')\n",
    "print('Recommendation for User 5600:')\n",
    "print(new_rec_list_5600[0:n])"
   ]
  },
  {
   "cell_type": "markdown",
   "metadata": {},
   "source": [
    "# $\\textbf{Final 14er Recommender Based on Collaborative Filtering } \\\\ \\textbf{and Ratings} \\textit{ Not } \\textbf{Scaled By Peak Frequency}$"
   ]
  },
  {
   "cell_type": "code",
   "execution_count": null,
   "metadata": {},
   "outputs": [],
   "source": [
    "def recom_14er_noScale()"
   ]
  },
  {
   "cell_type": "markdown",
   "metadata": {},
   "source": [
    "## Test Solution"
   ]
  },
  {
   "cell_type": "code",
   "execution_count": 76,
   "metadata": {},
   "outputs": [],
   "source": [
    "from sklearn.metrics import mean_squared_error\n",
    "from math import sqrt\n",
    "def rmse(prediction, ground_truth):\n",
    "    prediction = prediction[ground_truth.nonzero()].flatten() \n",
    "    ground_truth = ground_truth[ground_truth.nonzero()].flatten()\n",
    "    return sqrt(mean_squared_error(prediction, ground_truth))"
   ]
  },
  {
   "cell_type": "code",
   "execution_count": 77,
   "metadata": {},
   "outputs": [
    {
     "name": "stdout",
     "output_type": "stream",
     "text": [
      "User-based CF RMSE: 0.6166488502620027\n"
     ]
    }
   ],
   "source": [
    "print('User-based CF RMSE: ' + str(rmse(user_prediction, test_data_matrix)))\n"
   ]
  },
  {
   "cell_type": "code",
   "execution_count": null,
   "metadata": {},
   "outputs": [],
   "source": []
  },
  {
   "cell_type": "markdown",
   "metadata": {},
   "source": [
    "### Workbook"
   ]
  },
  {
   "cell_type": "code",
   "execution_count": 15,
   "metadata": {},
   "outputs": [
    {
     "name": "stdout",
     "output_type": "stream",
     "text": [
      "[[ 1  2  3]\n",
      " [ 4  5  6]\n",
      " [ 7  8  9]\n",
      " [10 11 12]]\n"
     ]
    }
   ],
   "source": [
    "mat1 = np.array([[1,2,3],[4,5,6],[7,8,9],[10,11,12]])\n",
    "#mat2 = np.array([[1],2,3,4]])\n",
    "print(mat1)\n"
   ]
  },
  {
   "cell_type": "code",
   "execution_count": 17,
   "metadata": {},
   "outputs": [
    {
     "data": {
      "text/plain": [
       "array([22, 26, 30])"
      ]
     },
     "execution_count": 17,
     "metadata": {},
     "output_type": "execute_result"
    }
   ],
   "source": [
    "np.sum(mat1,axis=0)"
   ]
  },
  {
   "cell_type": "code",
   "execution_count": null,
   "metadata": {},
   "outputs": [],
   "source": []
  }
 ],
 "metadata": {
  "kernelspec": {
   "display_name": "Python 3",
   "language": "python",
   "name": "python3"
  },
  "language_info": {
   "codemirror_mode": {
    "name": "ipython",
    "version": 3
   },
   "file_extension": ".py",
   "mimetype": "text/x-python",
   "name": "python",
   "nbconvert_exporter": "python",
   "pygments_lexer": "ipython3",
   "version": "3.7.3"
  }
 },
 "nbformat": 4,
 "nbformat_minor": 2
}
