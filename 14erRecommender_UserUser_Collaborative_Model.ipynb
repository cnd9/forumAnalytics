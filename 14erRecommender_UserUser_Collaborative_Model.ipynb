{
 "cells": [
  {
   "cell_type": "markdown",
   "metadata": {},
   "source": [
    "# Overall Project Description"
   ]
  },
  {
   "cell_type": "markdown",
   "metadata": {},
   "source": [
    "#### This model will generate Colorado 14er hike recommendations for a given user, first based simply on a standard user-based collaborative filter engine with user similarities calculated via the Pearson coefficient determined from the (user,mountain) matrix of hike checklists. \n",
    "\n",
    "#### Next, to address the \"long-tail\" issue and de-emphasize the importance of a small number of highly popular peaks hiked by many users, the similarity calculation will be updated to more heavily weight common experiences on less popular peaks.\n",
    "\n",
    "#### Finally, the Pearson similarity metric will be appended in a weighted average with a similarity metric computed based on commonalities between user-provided profile information and hiking preferences.\n",
    "\n",
    "#### RMSE metric on a train-test split is used to evaluate approaches.  However, some tradeoff between minimized RMSE and increased diversity of top recommendations is allowable in this context.\n",
    "\n",
    "#### The same approach is repeated in a notebook for 13er hike recommendations.  There is a far wider scope of 13ers in Colorado, and more interesting utility to be gained from this latter recommendation engine.  The 14er recommender is constructed first to test model functionality with a pool of well-known peaks.\n",
    "\n",
    "As summarized above, the calculation will proceed first using the Pearson coefficient for calculating similarity between users; that is, the similarity between users 1 and 2 is given by  \n",
    "$s(u_1,u_2)=\\frac{\\sum_k (x_{1,k}-\\bar{x_1})(x_{2,k}-\\bar{x_2})}{\\sqrt{\\sum_k (x_{1,k}-\\bar{x})^2 \\sum_k (x_{2,k}-\\bar{x})^2}}$\n",
    "\n",
    "where $x_{n,k}$ is the rating that a user $n$ gives to a summit of peak $k$, and $\\bar{x}_n$ is the average rating over all peaks given by user $n$.  \n",
    "\n",
    "Currently, the ratings $x_k$ are simply binary representations of whether a user successfully summited a peak: -1 (user did not hike the peak) or 1 (user did hike the peak).  Using the actual number of climbs exacerbates the long tail problem since many users return repeatedly to the popular peaks simply out of convenience and proximity to cities, which is not intended as a factor in this recommendation system.\n",
    "\n",
    "The recommendation for peak \"k\" for a given user $n$ is then calculated from the user similarities according to the intuition that probable likelihood of hiking a given peak is added to the average likelihood of hiking any peak for user \"n\" ($\\bar{x}_k$) as a normalized, similarity-weighted sum over the mean-subtracted likelihood for all users \"m\":\n",
    "\n",
    "$\\hat{x}_{k,n} = \\bar{x}_k + \\frac{\\sum_{u_m}s(u_n, u_m)(x_{k,m} - \\bar{x}_m)}{\\left| \\sum_{u_m}{s(u_n,u_m)} \\right|}$\n",
    "\n"
   ]
  },
  {
   "cell_type": "code",
   "execution_count": 2,
   "metadata": {},
   "outputs": [],
   "source": [
    "import pandas as pd\n",
    "import numpy as np\n",
    "import random\n",
    "import pickle\n",
    "import seaborn as sns\n",
    "import matplotlib.pyplot as plt\n",
    "from sklearn import preprocessing\n",
    "import sklearn\n",
    "import json\n",
    "#sns.reset_orig()\n",
    "sns.set_style('white')\n",
    "%matplotlib inline\n",
    "pd.set_option('mode.chained_assignment',None)"
   ]
  },
  {
   "cell_type": "markdown",
   "metadata": {},
   "source": [
    "## Import Checklist Data and User Data"
   ]
  },
  {
   "cell_type": "markdown",
   "metadata": {},
   "source": [
    "Import checklist data that was previously scraped from a popular hiking website as part of this project.  Also import user data to map user ID to user Name, and merge dataframes (left join)"
   ]
  },
  {
   "cell_type": "code",
   "execution_count": 12,
   "metadata": {},
   "outputs": [
    {
     "data": {
      "text/html": [
       "<div>\n",
       "<style scoped>\n",
       "    .dataframe tbody tr th:only-of-type {\n",
       "        vertical-align: middle;\n",
       "    }\n",
       "\n",
       "    .dataframe tbody tr th {\n",
       "        vertical-align: top;\n",
       "    }\n",
       "\n",
       "    .dataframe thead th {\n",
       "        text-align: right;\n",
       "    }\n",
       "</style>\n",
       "<table border=\"1\" class=\"dataframe\">\n",
       "  <thead>\n",
       "    <tr style=\"text-align: right;\">\n",
       "      <th></th>\n",
       "      <th>UserId</th>\n",
       "      <th>PeakName</th>\n",
       "      <th>NumClimbs</th>\n",
       "      <th>Username</th>\n",
       "    </tr>\n",
       "  </thead>\n",
       "  <tbody>\n",
       "    <tr>\n",
       "      <th>0</th>\n",
       "      <td>7398</td>\n",
       "      <td>BlancaPeak</td>\n",
       "      <td>1</td>\n",
       "      <td>JimS</td>\n",
       "    </tr>\n",
       "    <tr>\n",
       "      <th>1</th>\n",
       "      <td>20364</td>\n",
       "      <td>BlancaPeak</td>\n",
       "      <td>1</td>\n",
       "      <td>skicrazy2121</td>\n",
       "    </tr>\n",
       "    <tr>\n",
       "      <th>2</th>\n",
       "      <td>179</td>\n",
       "      <td>BlancaPeak</td>\n",
       "      <td>1</td>\n",
       "      <td>Steve</td>\n",
       "    </tr>\n",
       "    <tr>\n",
       "      <th>3</th>\n",
       "      <td>5784</td>\n",
       "      <td>BlancaPeak</td>\n",
       "      <td>1</td>\n",
       "      <td>keflavich</td>\n",
       "    </tr>\n",
       "    <tr>\n",
       "      <th>4</th>\n",
       "      <td>46480</td>\n",
       "      <td>BlancaPeak</td>\n",
       "      <td>1</td>\n",
       "      <td>JeffSheets</td>\n",
       "    </tr>\n",
       "  </tbody>\n",
       "</table>\n",
       "</div>"
      ],
      "text/plain": [
       "  UserId    PeakName  NumClimbs      Username\n",
       "0   7398  BlancaPeak          1          JimS\n",
       "1  20364  BlancaPeak          1  skicrazy2121\n",
       "2    179  BlancaPeak          1         Steve\n",
       "3   5784  BlancaPeak          1     keflavich\n",
       "4  46480  BlancaPeak          1    JeffSheets"
      ]
     },
     "execution_count": 12,
     "metadata": {},
     "output_type": "execute_result"
    }
   ],
   "source": [
    "fname_14erList = r'14erChecklistByUser_df'\n",
    "fname_13erList = r'13erChecklistByUser_df'\n",
    "\n",
    "df_14ers = pickle.load(open(fname_14erList,\"rb\"))\n",
    "df_14ers = df_14ers[df_14ers['PeakName']!=\"\"]\n",
    "df_14ers = df_14ers.sort_values('PeakName')\n",
    "df_14ers['NumClimbs'] = df_14ers['NumClimbs'].apply(lambda x: -1 if x==0 else 1)\n",
    "#names = pd.Series(np.arange(len(names)), names)\n",
    "\n",
    "fname_user = r'user_profile_data_FULL'\n",
    "user_df = pickle.load(open(fname_user,\"rb\"))\n",
    "user_df = user_df[['UserId','Username']]\n",
    "\n",
    "df_14ers = pd.merge(df_14ers, user_df, on='UserId', how='left')\n",
    "df_14ers.head()"
   ]
  },
  {
   "cell_type": "code",
   "execution_count": 13,
   "metadata": {},
   "outputs": [],
   "source": [
    "climb_counts = df_14ers.groupby('PeakName').agg('count').sort_values('NumClimbs')\n",
    "dropnames = climb_counts[climb_counts['NumClimbs']<200].index.tolist()\n",
    "df_14ers = df_14ers[df_14ers['PeakName'].apply(lambda x: x not in dropnames)]\n",
    "#df_14ers[df_14ers['NewUserId']==4].head(40)"
   ]
  },
  {
   "cell_type": "code",
   "execution_count": 14,
   "metadata": {},
   "outputs": [
    {
     "name": "stdout",
     "output_type": "stream",
     "text": [
      "15207\n",
      "65\n"
     ]
    },
    {
     "data": {
      "text/html": [
       "<div>\n",
       "<style scoped>\n",
       "    .dataframe tbody tr th:only-of-type {\n",
       "        vertical-align: middle;\n",
       "    }\n",
       "\n",
       "    .dataframe tbody tr th {\n",
       "        vertical-align: top;\n",
       "    }\n",
       "\n",
       "    .dataframe thead th {\n",
       "        text-align: right;\n",
       "    }\n",
       "</style>\n",
       "<table border=\"1\" class=\"dataframe\">\n",
       "  <thead>\n",
       "    <tr style=\"text-align: right;\">\n",
       "      <th></th>\n",
       "      <th>PeakId</th>\n",
       "      <th>PeakName</th>\n",
       "    </tr>\n",
       "  </thead>\n",
       "  <tbody>\n",
       "    <tr>\n",
       "      <th>0</th>\n",
       "      <td>0</td>\n",
       "      <td>BlancaPeak</td>\n",
       "    </tr>\n",
       "    <tr>\n",
       "      <th>1</th>\n",
       "      <td>1</td>\n",
       "      <td>CapitolPeak</td>\n",
       "    </tr>\n",
       "    <tr>\n",
       "      <th>2</th>\n",
       "      <td>2</td>\n",
       "      <td>CastlePeak</td>\n",
       "    </tr>\n",
       "    <tr>\n",
       "      <th>3</th>\n",
       "      <td>3</td>\n",
       "      <td>ChallengerPoint</td>\n",
       "    </tr>\n",
       "    <tr>\n",
       "      <th>4</th>\n",
       "      <td>4</td>\n",
       "      <td>ConundrumPeak</td>\n",
       "    </tr>\n",
       "    <tr>\n",
       "      <th>5</th>\n",
       "      <td>5</td>\n",
       "      <td>CrestoneNeedle</td>\n",
       "    </tr>\n",
       "    <tr>\n",
       "      <th>6</th>\n",
       "      <td>6</td>\n",
       "      <td>CrestonePeak</td>\n",
       "    </tr>\n",
       "    <tr>\n",
       "      <th>7</th>\n",
       "      <td>7</td>\n",
       "      <td>CulebraPeak</td>\n",
       "    </tr>\n",
       "    <tr>\n",
       "      <th>8</th>\n",
       "      <td>8</td>\n",
       "      <td>EastLaPlata</td>\n",
       "    </tr>\n",
       "    <tr>\n",
       "      <th>9</th>\n",
       "      <td>9</td>\n",
       "      <td>ElDientePeak</td>\n",
       "    </tr>\n",
       "    <tr>\n",
       "      <th>10</th>\n",
       "      <td>10</td>\n",
       "      <td>EllingwoodPoint</td>\n",
       "    </tr>\n",
       "    <tr>\n",
       "      <th>11</th>\n",
       "      <td>11</td>\n",
       "      <td>GraysPeak</td>\n",
       "    </tr>\n",
       "  </tbody>\n",
       "</table>\n",
       "</div>"
      ],
      "text/plain": [
       "    PeakId         PeakName\n",
       "0        0       BlancaPeak\n",
       "1        1      CapitolPeak\n",
       "2        2       CastlePeak\n",
       "3        3  ChallengerPoint\n",
       "4        4    ConundrumPeak\n",
       "5        5   CrestoneNeedle\n",
       "6        6     CrestonePeak\n",
       "7        7      CulebraPeak\n",
       "8        8      EastLaPlata\n",
       "9        9     ElDientePeak\n",
       "10      10  EllingwoodPoint\n",
       "11      11        GraysPeak"
      ]
     },
     "execution_count": 14,
     "metadata": {},
     "output_type": "execute_result"
    }
   ],
   "source": [
    "n_14er_users = df_14ers.UserId.nunique()\n",
    "n_14ers = df_14ers.PeakName.nunique()\n",
    "print(n_14er_users)\n",
    "print(n_14ers)\n",
    "## Create a dataframe that assigns an index to each peak\n",
    "index_ind=pd.DataFrame(data={'PeakId':np.arange(len(df_14ers.PeakName.unique())),'PeakName':df_14ers.PeakName.unique()})\n",
    "index_ind.head(12)"
   ]
  },
  {
   "cell_type": "code",
   "execution_count": 15,
   "metadata": {},
   "outputs": [
    {
     "data": {
      "text/html": [
       "<div>\n",
       "<style scoped>\n",
       "    .dataframe tbody tr th:only-of-type {\n",
       "        vertical-align: middle;\n",
       "    }\n",
       "\n",
       "    .dataframe tbody tr th {\n",
       "        vertical-align: top;\n",
       "    }\n",
       "\n",
       "    .dataframe thead th {\n",
       "        text-align: right;\n",
       "    }\n",
       "</style>\n",
       "<table border=\"1\" class=\"dataframe\">\n",
       "  <thead>\n",
       "    <tr style=\"text-align: right;\">\n",
       "      <th></th>\n",
       "      <th>UserId</th>\n",
       "      <th>PeakName</th>\n",
       "      <th>NumClimbs</th>\n",
       "      <th>Username</th>\n",
       "      <th>PeakId</th>\n",
       "    </tr>\n",
       "  </thead>\n",
       "  <tbody>\n",
       "    <tr>\n",
       "      <th>0</th>\n",
       "      <td>7398</td>\n",
       "      <td>BlancaPeak</td>\n",
       "      <td>1</td>\n",
       "      <td>JimS</td>\n",
       "      <td>0</td>\n",
       "    </tr>\n",
       "    <tr>\n",
       "      <th>1</th>\n",
       "      <td>20364</td>\n",
       "      <td>BlancaPeak</td>\n",
       "      <td>1</td>\n",
       "      <td>skicrazy2121</td>\n",
       "      <td>0</td>\n",
       "    </tr>\n",
       "    <tr>\n",
       "      <th>2</th>\n",
       "      <td>179</td>\n",
       "      <td>BlancaPeak</td>\n",
       "      <td>1</td>\n",
       "      <td>Steve</td>\n",
       "      <td>0</td>\n",
       "    </tr>\n",
       "    <tr>\n",
       "      <th>3</th>\n",
       "      <td>5784</td>\n",
       "      <td>BlancaPeak</td>\n",
       "      <td>1</td>\n",
       "      <td>keflavich</td>\n",
       "      <td>0</td>\n",
       "    </tr>\n",
       "    <tr>\n",
       "      <th>4</th>\n",
       "      <td>46480</td>\n",
       "      <td>BlancaPeak</td>\n",
       "      <td>1</td>\n",
       "      <td>JeffSheets</td>\n",
       "      <td>0</td>\n",
       "    </tr>\n",
       "  </tbody>\n",
       "</table>\n",
       "</div>"
      ],
      "text/plain": [
       "  UserId    PeakName  NumClimbs      Username  PeakId\n",
       "0   7398  BlancaPeak          1          JimS       0\n",
       "1  20364  BlancaPeak          1  skicrazy2121       0\n",
       "2    179  BlancaPeak          1         Steve       0\n",
       "3   5784  BlancaPeak          1     keflavich       0\n",
       "4  46480  BlancaPeak          1    JeffSheets       0"
      ]
     },
     "execution_count": 15,
     "metadata": {},
     "output_type": "execute_result"
    }
   ],
   "source": [
    "df_14ers = df_14ers.merge(index_ind)\n",
    "df_14ers.head()"
   ]
  },
  {
   "cell_type": "code",
   "execution_count": 16,
   "metadata": {},
   "outputs": [
    {
     "data": {
      "text/html": [
       "<div>\n",
       "<style scoped>\n",
       "    .dataframe tbody tr th:only-of-type {\n",
       "        vertical-align: middle;\n",
       "    }\n",
       "\n",
       "    .dataframe tbody tr th {\n",
       "        vertical-align: top;\n",
       "    }\n",
       "\n",
       "    .dataframe thead th {\n",
       "        text-align: right;\n",
       "    }\n",
       "</style>\n",
       "<table border=\"1\" class=\"dataframe\">\n",
       "  <thead>\n",
       "    <tr style=\"text-align: right;\">\n",
       "      <th></th>\n",
       "      <th>UserId</th>\n",
       "      <th>PeakName</th>\n",
       "      <th>NumClimbs</th>\n",
       "      <th>Username</th>\n",
       "      <th>PeakId</th>\n",
       "      <th>NewUserId</th>\n",
       "    </tr>\n",
       "  </thead>\n",
       "  <tbody>\n",
       "    <tr>\n",
       "      <th>0</th>\n",
       "      <td>7398</td>\n",
       "      <td>BlancaPeak</td>\n",
       "      <td>1</td>\n",
       "      <td>JimS</td>\n",
       "      <td>0</td>\n",
       "      <td>0</td>\n",
       "    </tr>\n",
       "    <tr>\n",
       "      <th>1</th>\n",
       "      <td>7398</td>\n",
       "      <td>CapitolPeak</td>\n",
       "      <td>1</td>\n",
       "      <td>JimS</td>\n",
       "      <td>1</td>\n",
       "      <td>0</td>\n",
       "    </tr>\n",
       "    <tr>\n",
       "      <th>2</th>\n",
       "      <td>7398</td>\n",
       "      <td>CastlePeak</td>\n",
       "      <td>1</td>\n",
       "      <td>JimS</td>\n",
       "      <td>2</td>\n",
       "      <td>0</td>\n",
       "    </tr>\n",
       "    <tr>\n",
       "      <th>3</th>\n",
       "      <td>7398</td>\n",
       "      <td>ChallengerPoint</td>\n",
       "      <td>1</td>\n",
       "      <td>JimS</td>\n",
       "      <td>3</td>\n",
       "      <td>0</td>\n",
       "    </tr>\n",
       "    <tr>\n",
       "      <th>4</th>\n",
       "      <td>7398</td>\n",
       "      <td>ConundrumPeak</td>\n",
       "      <td>1</td>\n",
       "      <td>JimS</td>\n",
       "      <td>4</td>\n",
       "      <td>0</td>\n",
       "    </tr>\n",
       "  </tbody>\n",
       "</table>\n",
       "</div>"
      ],
      "text/plain": [
       "  UserId         PeakName  NumClimbs Username  PeakId  NewUserId\n",
       "0   7398       BlancaPeak          1     JimS       0          0\n",
       "1   7398      CapitolPeak          1     JimS       1          0\n",
       "2   7398       CastlePeak          1     JimS       2          0\n",
       "3   7398  ChallengerPoint          1     JimS       3          0\n",
       "4   7398    ConundrumPeak          1     JimS       4          0"
      ]
     },
     "execution_count": 16,
     "metadata": {},
     "output_type": "execute_result"
    }
   ],
   "source": [
    "## We should also redo the user ids since they span the length of the full user database, and we\n",
    "## have only taken the subset of the users that have logged a 14er hike\n",
    "index_id=pd.DataFrame(data={'NewUserId':np.arange(len(df_14ers.UserId.unique())),'UserId':df_14ers.UserId.unique()})\n",
    "df_14ers = df_14ers.merge(index_id)\n",
    "df_14ers.head()"
   ]
  },
  {
   "cell_type": "code",
   "execution_count": 17,
   "metadata": {},
   "outputs": [],
   "source": [
    "### Run if desired\n",
    "pickle.dump(df_14ers,open(r'14ers_df_final',\"wb\"))"
   ]
  },
  {
   "cell_type": "code",
   "execution_count": 18,
   "metadata": {},
   "outputs": [],
   "source": [
    "### Split df into train/test\n",
    "from sklearn.model_selection import train_test_split\n",
    "random.seed(1000)\n",
    "train_data14ers, test_data14ers = train_test_split(df_14ers, test_size=0.25)"
   ]
  },
  {
   "cell_type": "markdown",
   "metadata": {},
   "source": [
    "## Build the similarity metric matrix between users based only on Pearson metric, and then create a peak prediction for each user "
   ]
  },
  {
   "cell_type": "code",
   "execution_count": 22,
   "metadata": {},
   "outputs": [],
   "source": [
    "train_data_userids = train_data14ers['NewUserId'].tolist()\n",
    "test_data_userids = test_data14ers['NewUserId'].tolist()"
   ]
  },
  {
   "cell_type": "code",
   "execution_count": 29,
   "metadata": {},
   "outputs": [],
   "source": [
    "full_data_matrix = -1*np.ones((n_14er_users, n_14ers))\n",
    "for line in df_14ers.itertuples():\n",
    "    full_data_matrix[line[6], line[5]] = line[3]\n",
    "train_data_matrix = np.copy(full_data_matrix)\n",
    "train_data_matrix[train_data_userids,:]=0\n",
    "test_data_matrix = np.copy(full_data_matrix)\n",
    "test_data_matrix[test_data_userids,:]=0\n"
   ]
  },
  {
   "cell_type": "markdown",
   "metadata": {},
   "source": [
    "##### Pearson Metric \n",
    "\n",
    "$s(u_i,u_j)=\\frac{\\sum_k (x_{i,k}-\\bar{x_i})(x_{j,k}-\\bar{x_j})}{\\sqrt{\\sum_k (x_{i,k}-\\bar{x_i})^2 \\sum_k (x_{j,k}-\\bar{x_j})^2}}$\n",
    "\n",
    "The (i,j) are user indices and \"k\" is a peak index"
   ]
  },
  {
   "cell_type": "code",
   "execution_count": 31,
   "metadata": {},
   "outputs": [],
   "source": [
    "def pearson_correlation(full_data_matrix,frac=1):\n",
    "    epsilon = 1e-5\n",
    "    #train_data_matrix has dimensions of (nusers,n14ers)\n",
    "    nusers = np.shape(train_data_matrix)[0]\n",
    "    pcorr_matrix = np.zeros((nusers,nusers))\n",
    "    user_means = np.mean(train_data_matrix,axis=1)*1/frac ##rescale if needed when inputting partially-zeroed matrices from train and test\n",
    "    mean_subtract = train_data_matrix - np.reshape(user_means,(nusers,1))\n",
    "    denom_sum_sq = (np.sum((mean_subtract)**2,axis=1))**0.5 + epsilon\n",
    "    for i in range(nusers):\n",
    "        for j in range(nusers):\n",
    "            pcorr_matrix[i,j] = np.dot(mean_subtract[i,:],mean_subtract[j,:])/(denom_sum_sq[i]*denom_sum_sq[j])\n",
    "    return pcorr_matrix"
   ]
  },
  {
   "cell_type": "code",
   "execution_count": 32,
   "metadata": {},
   "outputs": [],
   "source": [
    "def cosine_correlation(full_data_matrix,frac=1):\n",
    "    epsilon = 1e-5\n",
    "    #train_data_matrix has dimensions of (nusers,n14ers)\n",
    "    nusers = np.shape(train_data_matrix)[0]\n",
    "    pcorr_matrix = np.zeros((nusers,nusers))\n",
    "    user_means = np.mean(train_data_matrix,axis=1)*1/frac \n",
    "    denom_sum_sq = (np.sum((train_data_matrix)**2,axis=1))**0.5 + epsilon\n",
    "    for i in range(nusers):\n",
    "        for j in range(nusers):\n",
    "            pcorr_matrix[i,j] = np.dot(mean_subtract[i,:],mean_subtract[j,:])/(denom_sum_sq[i]*denom_sum_sq[j])\n",
    "    return pcorr_matrix"
   ]
  },
  {
   "cell_type": "code",
   "execution_count": null,
   "metadata": {},
   "outputs": [],
   "source": [
    "### WARNING: this will take a bit of time (~10 mins).  Pre-Load data if possible\n",
    "user_similarity_full = pearson_correlation(full_data_matrix,1)\n",
    "#pickle.dump(user_similarity_full,open(r'user_similarities_14er_pearson_full',\"wb\"))"
   ]
  },
  {
   "cell_type": "code",
   "execution_count": 33,
   "metadata": {},
   "outputs": [],
   "source": [
    "user_similarity_full=pickle.load(open(r'user_similarities_14er_pearson_full',\"rb\"))"
   ]
  },
  {
   "cell_type": "code",
   "execution_count": 34,
   "metadata": {},
   "outputs": [
    {
     "name": "stdout",
     "output_type": "stream",
     "text": [
      "[ 0.23337712  0.14426057  0.02531338  0.23789859  0.06112325  0.03665148\n",
      "  0.03665148  0.14426057  0.17117169  0.17117169  0.11948398  0.19520464\n",
      "  0.10030286 -0.02410707  0.28772734  0.08332895  0.16867405  0.28772734\n",
      "  0.03665148  0.0566243   0.23789859  0.05764809  0.03665148  0.25689865\n",
      "  0.19702652  0.34394594  0.12513812  0.35167722 -0.01946856  0.22619658\n",
      "  0.12157116  0.08021728  0.06112325  0.23337712  0.33026892  0.05752817\n",
      " -0.03473689  0.23789859  0.11948398 -0.11915439  0.05752817  0.05752817\n",
      "  0.13189494  0.17518244  0.08021728  0.08837329  0.08023387  0.02531338\n",
      " -0.01946856  0.3101754   0.12148316  0.22437477  0.28772734  0.10480361\n",
      "  0.11948398  0.22437477  0.19520464  0.47602322  0.23789859  0.12157116\n",
      "  0.15875356  0.25186967  0.08023387  0.10107526  0.16867405  0.05752817\n",
      " -0.00170005  0.22437477  0.08021728  0.16226523  0.08021728  0.05764809\n",
      " -0.04409555  0.12513812  0.0083602   0.05764809 -0.03650706  0.15640666\n",
      "  0.25689865  0.03665148  0.14426057  0.04286495  0.16226523  0.04957482\n",
      "  0.05764809  0.10480361  0.16226523  0.02531338  0.28772734  0.0307444\n",
      "  0.16226523  0.16867405  0.28772734  0.10030286  0.24666352 -0.03473689\n",
      "  0.10480361  0.19702652  0.23789859  0.08023387]\n"
     ]
    }
   ],
   "source": [
    "print(user_similarity[5000,-4000:-3900])"
   ]
  },
  {
   "cell_type": "markdown",
   "metadata": {},
   "source": [
    "##### Spot checks to make sure that the 14er lists of user pairs rated most similar are actually close"
   ]
  },
  {
   "cell_type": "code",
   "execution_count": 35,
   "metadata": {},
   "outputs": [
    {
     "name": "stdout",
     "output_type": "stream",
     "text": [
      "0.3806331687339949\n",
      "[-0.32944555 -0.32944555 -0.32944555 ...  0.29378607  0.19702652\n",
      "  0.16226523]\n",
      "Check User 10000\n",
      "       UserId     PeakName  NumClimbs   Username  PeakId  NewUserId\n",
      "202215  41300    GraysPeak          1  drewlaski      11       8354\n",
      "202216  41300  MtBierstadt          1  drewlaski      24       8354\n",
      "202217  41300     MtElbert          1  drewlaski      29       8354\n",
      "202218  41300  MtPrinceton          1  drewlaski      36       8354\n",
      "202219  41300  TorreysPeak          1  drewlaski      59       8354\n",
      "\n",
      "\n",
      "       UserId          PeakName  NumClimbs  Username  PeakId  NewUserId\n",
      "220227  74031         GraysPeak          1  acarroll      11      10000\n",
      "220228  74031  MissouriMountain          1  acarroll      21      10000\n",
      "220229  74031       MtBierstadt          1  acarroll      24      10000\n",
      "220230  74031          MtElbert          1  acarroll      29      10000\n",
      "220231  74031       MtPrinceton          1  acarroll      36      10000\n",
      "220232  74031       TorreysPeak          1  acarroll      59      10000\n",
      "\n",
      "\n",
      "\n",
      "Check User 5600\n",
      "       UserId          PeakName  NumClimbs Username  PeakId  NewUserId\n",
      "221505  73707         GraysPeak          1  Mkoveal      11      10121\n",
      "221506  73707       LaPlataPeak          1  Mkoveal      16      10121\n",
      "221507  73707         MtBelford          1  Mkoveal      23      10121\n",
      "221508  73707       MtBierstadt          1  Mkoveal      24      10121\n",
      "221509  73707           MtBross          1  Mkoveal      25      10121\n",
      "221510  73707         MtCameron          1  Mkoveal      26      10121\n",
      "221511  73707        MtDemocrat          1  Mkoveal      28      10121\n",
      "221512  73707          MtElbert          1  Mkoveal      29      10121\n",
      "221513  73707           MtEvans          1  Mkoveal      31      10121\n",
      "221514  73707         MtMassive          1  Mkoveal      34      10121\n",
      "221515  73707          MtOxford          1  Mkoveal      35      10121\n",
      "221516  73707         MtSherman          1  Mkoveal      38      10121\n",
      "221517  73707  MtoftheHolyCross          1  Mkoveal      42      10121\n",
      "221518  73707      QuandaryPeak          1  Mkoveal      49      10121\n",
      "221519  73707       TorreysPeak          1  Mkoveal      59      10121\n",
      "\n",
      "\n",
      "       UserId          PeakName  NumClimbs     Username  PeakId  NewUserId\n",
      "171943  11597      ElDientePeak          1  Average Joe       9       5600\n",
      "171944  11597         GraysPeak          1  Average Joe      11       5600\n",
      "171945  11597       LaPlataPeak          1  Average Joe      16       5600\n",
      "171946  11597         LongsPeak          1  Average Joe      18       5600\n",
      "171947  11597          MtAntero          1  Average Joe      22       5600\n",
      "171948  11597         MtBelford          1  Average Joe      23       5600\n",
      "171949  11597       MtBierstadt          1  Average Joe      24       5600\n",
      "171950  11597           MtBross          1  Average Joe      25       5600\n",
      "171951  11597         MtCameron          1  Average Joe      26       5600\n",
      "171952  11597        MtDemocrat          1  Average Joe      28       5600\n",
      "171953  11597          MtElbert          1  Average Joe      29       5600\n",
      "171954  11597           MtEvans          1  Average Joe      31       5600\n",
      "171955  11597         MtMassive          1  Average Joe      34       5600\n",
      "171956  11597          MtOxford          1  Average Joe      35       5600\n",
      "171957  11597         MtSherman          1  Average Joe      38       5600\n",
      "171958  11597          MtWilson          1  Average Joe      40       5600\n",
      "171959  11597  MtoftheHolyCross          1  Average Joe      42       5600\n",
      "171960  11597      QuandaryPeak          1  Average Joe      49       5600\n",
      "171961  11597      RedcloudPeak          1  Average Joe      50       5600\n",
      "171962  11597       TorreysPeak          1  Average Joe      59       5600\n",
      "171963  11597    WetterhornPeak          1  Average Joe      62       5600\n"
     ]
    }
   ],
   "source": [
    "sim_to_10000=user_similarity[10000,:].argsort() \n",
    "sim_to_5600=user_similarity[5600,:].argsort()\n",
    "print(user_similarity[10000,sim_to_5600[-2]])\n",
    "print(user_similarity[5000,sim_to_10000])\n",
    "print('Check User 10000')\n",
    "print(df_14ers[df_14ers['NewUserId']==sim_to_10000[-2]])\n",
    "print('\\n')\n",
    "print(df_14ers[df_14ers['NewUserId']==10000])\n",
    "print('\\n\\n')\n",
    "print('Check User 5600')\n",
    "print(df_14ers[df_14ers['NewUserId']==sim_to_5600[-2]])\n",
    "print('\\n')\n",
    "print(df_14ers[df_14ers['NewUserId']==5600])"
   ]
  },
  {
   "cell_type": "code",
   "execution_count": 36,
   "metadata": {},
   "outputs": [],
   "source": [
    "def predict(ratings, similarity):\n",
    "    epsilon = 1e-5\n",
    "    mean_user_rating = ratings.mean(axis=1)\n",
    "    ratings_diff = (ratings - mean_user_rating[:, np.newaxis]) \n",
    "    pred = mean_user_rating[:, np.newaxis] + similarity.dot(ratings_diff) / (np.array([np.abs(similarity).sum(axis=1)])+epsilon).T\n",
    "    return pred"
   ]
  },
  {
   "cell_type": "code",
   "execution_count": 39,
   "metadata": {},
   "outputs": [],
   "source": [
    "user_prediction_full = predict(full_data_matrix, user_similarity_full)"
   ]
  },
  {
   "cell_type": "code",
   "execution_count": 40,
   "metadata": {},
   "outputs": [],
   "source": [
    "### The prediction matrix along with the user info dataframe will be used to make the Flask API\n",
    "pickle.dump(user_prediction_full,open(r'user_prediction_full',\"wb\"))"
   ]
  },
  {
   "cell_type": "markdown",
   "metadata": {},
   "source": [
    "### Perform some spot-checks of the recommendations "
   ]
  },
  {
   "cell_type": "code",
   "execution_count": 44,
   "metadata": {},
   "outputs": [
    {
     "name": "stdout",
     "output_type": "stream",
     "text": [
      "User 5000 Hiked:\n",
      "['ChallengerPoint', 'CrestoneNeedle', 'HuronPeak', 'KitCarsonPeak', 'LaPlataPeak', 'MtBierstadt', 'MtHarvard', 'MtLindsey', 'MtMassive']\n",
      "\n",
      "\n",
      "\n",
      "Recommendation for User 5000:\n",
      "['LongsPeak', 'MtBelford', 'MtYale', 'MtShavano', 'MtPrinceton', 'MtOxford', 'MtoftheHolyCross', 'MissouriMountain', 'TabeguachePeak', 'MtColumbia', 'HumboldtPeak', 'MtAntero']\n",
      "\n",
      "\n",
      "\n",
      "User 5600 Hiked:\n",
      "['ElDientePeak', 'GraysPeak', 'LaPlataPeak', 'LongsPeak', 'MtAntero', 'MtBelford', 'MtBierstadt', 'MtBross', 'MtCameron', 'MtDemocrat', 'MtElbert', 'MtEvans', 'MtMassive', 'MtOxford', 'MtSherman', 'MtWilson', 'MtoftheHolyCross', 'QuandaryPeak', 'RedcloudPeak', 'TorreysPeak', 'WetterhornPeak']\n",
      "\n",
      "\n",
      "\n",
      "Recommendation for User 5600:\n",
      "['HuronPeak', 'MtYale', 'MtShavano', 'MtPrinceton', 'MissouriMountain', 'MtHarvard', 'TabeguachePeak', 'HandiesPeak', 'MtColumbia', 'SunshinePeak', 'HumboldtPeak', 'UncompahgrePeak']\n",
      "\n",
      "\n",
      "\n",
      "User 8600 Hiked:\n",
      "['GraysPeak', 'MtBross', 'MtCameron', 'MtElbert']\n",
      "\n",
      "\n",
      "\n",
      "Recommendation for User 8600:\n",
      "['LongsPeak', 'MtBelford', 'MtMassive', 'HuronPeak', 'LaPlataPeak', 'MtYale', 'MtShavano', 'MtOxford', 'MtPrinceton', 'MtoftheHolyCross', 'MissouriMountain', 'MtHarvard']\n"
     ]
    }
   ],
   "source": [
    "np.shape(user_prediction_full)\n",
    "### For now I just want to explicitly exclude the common peaks\n",
    "common_peaks = ['GraysPeak', 'MtBierstadt', 'QuandaryPeak', 'TorreysPeak', 'MtDemocrat', 'MtElbert', 'MtBross', 'MtCameron', 'MtEvans', 'MtSherman', 'PikesPeak']\n",
    "n=12\n",
    "user_prediction=user_prediction_full.astype('float')\n",
    "\n",
    "args=((-user_prediction[5000,:]).argsort())\n",
    "hiked_list_5000 = (df_14ers[df_14ers['NewUserId']==5000])['PeakName'].tolist()\n",
    "print('User 5000 Hiked:')\n",
    "print(hiked_list_5000)\n",
    "rec_list_5000 = index_ind['PeakName'][args].tolist()\n",
    "new_rec_list_5000 = [elem for elem in rec_list_5000 if elem not in hiked_list_5000 and elem not in common_peaks]\n",
    "print('\\n\\n')\n",
    "print('Recommendation for User 5000:')\n",
    "print(new_rec_list_5000[0:n])\n",
    "args=((-user_prediction[5600,:]).argsort())\n",
    "hiked_list_5600 = (df_14ers[df_14ers['NewUserId']==5600])['PeakName'].tolist()\n",
    "print('\\n\\n')\n",
    "print('User 5600 Hiked:')\n",
    "print(hiked_list_5600)\n",
    "rec_list_5600 = index_ind['PeakName'][args].tolist()\n",
    "new_rec_list_5600 = [elem for elem in rec_list_5600 if elem not in hiked_list_5600 and elem not in common_peaks]\n",
    "print('\\n\\n')\n",
    "print('Recommendation for User 5600:')\n",
    "print(new_rec_list_5600[0:n])\n",
    "\n",
    "hiked_list_8600 = (df_14ers[df_14ers['NewUserId']==8600])['PeakName'].tolist()\n",
    "print('\\n\\n')\n",
    "print('User 8600 Hiked:')\n",
    "print(hiked_list_8600)\n",
    "rec_list_8600 = index_ind['PeakName'][args].tolist()\n",
    "new_rec_list_8600 = [elem for elem in rec_list_8600 if elem not in hiked_list_8600 and elem not in common_peaks]\n",
    "print('\\n\\n')\n",
    "print('Recommendation for User 8600:')\n",
    "print(new_rec_list_8600[0:n])"
   ]
  },
  {
   "cell_type": "markdown",
   "metadata": {},
   "source": [
    "## Test Solution"
   ]
  },
  {
   "cell_type": "code",
   "execution_count": 45,
   "metadata": {},
   "outputs": [],
   "source": [
    "from sklearn.metrics import mean_squared_error\n",
    "from math import sqrt\n",
    "def rmse(prediction, ground_truth):\n",
    "    prediction = prediction[ground_truth.nonzero()].flatten() \n",
    "    ground_truth = ground_truth[ground_truth.nonzero()].flatten()\n",
    "    return sqrt(mean_squared_error(prediction, ground_truth))"
   ]
  },
  {
   "cell_type": "code",
   "execution_count": null,
   "metadata": {},
   "outputs": [],
   "source": [
    "print('User-based CF RMSE: ' + str(rmse(user_prediction, test_data_matrix)))\n"
   ]
  }
 ],
 "metadata": {
  "kernelspec": {
   "display_name": "Python 3",
   "language": "python",
   "name": "python3"
  },
  "language_info": {
   "codemirror_mode": {
    "name": "ipython",
    "version": 3
   },
   "file_extension": ".py",
   "mimetype": "text/x-python",
   "name": "python",
   "nbconvert_exporter": "python",
   "pygments_lexer": "ipython3",
   "version": "3.7.3"
  }
 },
 "nbformat": 4,
 "nbformat_minor": 2
}
