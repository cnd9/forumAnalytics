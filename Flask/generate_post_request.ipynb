{
 "cells": [
  {
   "cell_type": "code",
   "execution_count": 6,
   "metadata": {},
   "outputs": [
    {
     "name": "stdout",
     "output_type": "stream",
     "text": [
      "<Response [200]> {\n",
      "  \"HikedList\": [\n",
      "    \"GraysPeak\", \n",
      "    \"LongsPeak\", \n",
      "    \"MtBierstadt\", \n",
      "    \"MtEvans\", \n",
      "    \"QuandaryPeak\", \n",
      "    \"TorreysPeak\", \n",
      "    \"UncompahgrePeak\", \n",
      "    \"WilsonPeak\"\n",
      "  ], \n",
      "  \"RecList\": [\n",
      "    \"HandiesPeak\", \n",
      "    \"BlancaPeak\", \n",
      "    \"SouthBross\", \n",
      "    \"MtLindsey\", \n",
      "    \"MtEolus\", \n",
      "    \"MtColumbia\", \n",
      "    \"MaroonPeak\", \n",
      "    \"MtWilson\", \n",
      "    \"SanLuisPeak\", \n",
      "    \"MtPrinceton\", \n",
      "    \"KitCarsonPeak\", \n",
      "    \"NorthEolus\"\n",
      "  ]\n",
      "}\n",
      "\n"
     ]
    }
   ],
   "source": [
    "import requests\n",
    "import json\n",
    "\n",
    "url = r'http://localhost:5000/rec14er/'\n",
    "\n",
    "data = {'Username': r'Adam_Lawson'}\n",
    "j_data = json.dumps(data)\n",
    "headers = {'content-type': 'application/json', 'Accept-Charset': 'UTF-8'}\n",
    "r = requests.post(url, data=j_data, headers=headers)\n",
    "print(r, r.text)"
   ]
  },
  {
   "cell_type": "code",
   "execution_count": null,
   "metadata": {},
   "outputs": [],
   "source": []
  }
 ],
 "metadata": {
  "kernelspec": {
   "display_name": "Python 3",
   "language": "python",
   "name": "python3"
  },
  "language_info": {
   "codemirror_mode": {
    "name": "ipython",
    "version": 3
   },
   "file_extension": ".py",
   "mimetype": "text/x-python",
   "name": "python",
   "nbconvert_exporter": "python",
   "pygments_lexer": "ipython3",
   "version": "3.7.3"
  }
 },
 "nbformat": 4,
 "nbformat_minor": 2
}
